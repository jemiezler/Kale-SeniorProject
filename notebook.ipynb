{
  "nbformat": 4,
  "nbformat_minor": 0,
  "metadata": {
    "colab": {
      "provenance": [],
      "collapsed_sections": [
        "I3AnxDVJ0Xl_"
      ],
      "authorship_tag": "ABX9TyNDhxkSoeHiSZAlwhAzdlcq",
      "include_colab_link": true
    },
    "kernelspec": {
      "name": "python3",
      "display_name": "Python 3"
    },
    "language_info": {
      "name": "python"
    }
  },
  "cells": [
    {
      "cell_type": "markdown",
      "metadata": {
        "id": "view-in-github",
        "colab_type": "text"
      },
      "source": [
        "<a href=\"https://colab.research.google.com/github/jemiezler/SeniorProject/blob/develop/notebook.ipynb\" target=\"_parent\"><img src=\"https://colab.research.google.com/assets/colab-badge.svg\" alt=\"Open In Colab\"/></a>"
      ]
    },
    {
      "cell_type": "markdown",
      "source": [
        "## Import Libraries"
      ],
      "metadata": {
        "id": "I3AnxDVJ0Xl_"
      }
    },
    {
      "cell_type": "code",
      "source": [],
      "metadata": {
        "id": "btQXAfQr0nEz"
      },
      "execution_count": null,
      "outputs": []
    }
  ]
}